{
  "nbformat": 4,
  "nbformat_minor": 0,
  "metadata": {
    "colab": {
      "provenance": []
    },
    "kernelspec": {
      "name": "python3",
      "display_name": "Python 3"
    },
    "language_info": {
      "name": "python"
    }
  },
  "cells": [
    {
      "cell_type": "code",
      "source": [
        "import pandas as pd\n",
        "import numpy as np\n",
        "import seaborn as sns\n",
        "import matplotlib.pyplot as plt\n",
        "from sklearn.model_selection import train_test_split\n",
        "from sklearn.naive_bayes import GaussianNB\n",
        "from sklearn.metrics import accuracy_score, classification_report, precision_score, recall_score, f1_score, confusion_matrix\n",
        "\n",
        "# Load dataset\n",
        "df = pd.read_csv(\"anemia.csv\")\n",
        "\n",
        "# Cek data kosong\n",
        "df.fillna(df.median(), inplace=True)\n",
        "\n",
        "# Hapus duplikat\n",
        "df.drop_duplicates(inplace=True)\n",
        "\n",
        "# Asumsi kolom terakhir adalah target\n",
        "X = df.iloc[:, :-1]  # Semua kolom kecuali yang terakhir sebagai fitur\n",
        "y = df.iloc[:, -1]   # Kolom terakhir sebagai target\n",
        "\n",
        "# Jika ada kolom kategorikal, lakukan encoding\n",
        "X = pd.get_dummies(X)\n",
        "\n",
        "# Split dataset menjadi training dan testing\n",
        "X_train, X_test, y_train, y_test = train_test_split(X, y, test_size=0.2, random_state=42)\n",
        "\n",
        "# Inisialisasi dan latih model Naive Bayes\n",
        "model = GaussianNB()\n",
        "model.fit(X_train, y_train)\n",
        "\n",
        "# Prediksi data uji\n",
        "y_pred = model.predict(X_test)\n",
        "\n",
        "# Evaluasi model\n",
        "accuracy = accuracy_score(y_test, y_pred)\n",
        "precision = precision_score(y_test, y_pred, average='weighted')\n",
        "recall = recall_score(y_test, y_pred, average='weighted')\n",
        "f1 = f1_score(y_test, y_pred, average='weighted')\n",
        "\n",
        "print(f'Accuracy: {accuracy:.2f}')\n",
        "print(f'Precision: {precision:.2f}')\n",
        "print(f'Recall: {recall:.2f}')\n",
        "print(f'F1 Score: {f1:.2f}')\n",
        "print(classification_report(y_test, y_pred))\n",
        "\n",
        "# Confusion Matrix\n",
        "cm = confusion_matrix(y_test, y_pred)\n",
        "plt.figure(figsize=(6,4))\n",
        "sns.heatmap(cm, annot=True, fmt='d', cmap='Blues', xticklabels=np.unique(y), yticklabels=np.unique(y))\n",
        "plt.xlabel('Predicted')\n",
        "plt.ylabel('Actual')\n",
        "plt.title('Confusion Matrix')\n",
        "plt.show()"
      ],
      "metadata": {
        "colab": {
          "base_uri": "https://localhost:8080/",
          "height": 636
        },
        "id": "cYAxAW6Oxw9V",
        "outputId": "1f028ce0-73c2-43e5-dcd5-4a4b659dcfcb"
      },
      "execution_count": 1,
      "outputs": [
        {
          "output_type": "stream",
          "name": "stdout",
          "text": [
            "Accuracy: 0.94\n",
            "Precision: 0.95\n",
            "Recall: 0.94\n",
            "F1 Score: 0.94\n",
            "              precision    recall  f1-score   support\n",
            "\n",
            "           0       0.98      0.92      0.95        61\n",
            "           1       0.90      0.98      0.94        46\n",
            "\n",
            "    accuracy                           0.94       107\n",
            "   macro avg       0.94      0.95      0.94       107\n",
            "weighted avg       0.95      0.94      0.94       107\n",
            "\n"
          ]
        },
        {
          "output_type": "display_data",
          "data": {
            "text/plain": [
              "<Figure size 600x400 with 2 Axes>"
            ],
            "image/png": "[encoded data removed]"
          },
          "metadata": {}
        }
      ]
    },
    {
      "cell_type": "code",
      "source": [
        "# Minta input dari pengguna\n",
        "gender = input(\"Masukkan Gender (Male/Female): \")\n",
        "hemoglobin = float(input(\"Masukkan Hemoglobin: \"))\n",
        "mch = float(input(\"Masukkan MCH: \"))\n",
        "mchc = float(input(\"Masukkan MCHC: \"))\n",
        "mcv = float(input(\"Masukkan MCV: \"))\n",
        "\n",
        "# Masukkan ke dalam dictionary sesuai fitur dataset\n",
        "data_baru = {\n",
        "    'Gender': [gender],\n",
        "    'Hemoglobin': [hemoglobin],\n",
        "    'MCH': [mch],\n",
        "    'MCHC': [mchc],\n",
        "    'MCV': [mcv]\n",
        "}\n",
        "\n",
        "# Konversi ke DataFrame\n",
        "df_baru = pd.DataFrame(data_baru)\n",
        "\n",
        "# Pastikan encoding sama seperti saat training\n",
        "df_baru = pd.get_dummies(df_baru)\n",
        "\n",
        "# Sesuaikan dengan fitur yang dipakai saat training\n",
        "missing_cols = set(X.columns) - set(df_baru.columns)\n",
        "for col in missing_cols:\n",
        "    df_baru[col] = 0  # Tambahkan kolom yang hilang dengan nilai 0\n",
        "\n",
        "df_baru = df_baru[X.columns]  # Urutkan sesuai dengan fitur training\n",
        "\n",
        "# Prediksi kelas (0 atau 1)\n",
        "prediksi = model.predict(df_baru)\n",
        "\n",
        "print(f\"Data baru diklasifikasikan ke kelas: {prediksi[0]}\")\n"
      ],
      "metadata": {
        "id": "l71HQyHdx4tL",
        "colab": {
          "base_uri": "https://localhost:8080/"
        },
        "outputId": "c4918b01-d41e-4c7b-ccb5-9c4aea0cbef1"
      },
      "execution_count": 9,
      "outputs": [
        {
          "output_type": "stream",
          "name": "stdout",
          "text": [
            "Masukkan Gender (Male/Female): 1\n",
            "Masukkan Hemoglobin: 100\n",
            "Masukkan MCH: 21\n",
            "Masukkan MCHC: 56.7\n",
            "Masukkan MCV: 431\n",
            "Data baru diklasifikasikan ke kelas: 0\n"
          ]
        }
      ]
    },
    {
      "cell_type": "code",
      "source": [],
      "metadata": {
        "id": "PWgmjBMTZoEX"
      },
      "execution_count": null,
      "outputs": []
    }
  ]
}